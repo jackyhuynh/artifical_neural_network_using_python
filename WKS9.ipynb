{
 "cells": [
  {
   "cell_type": "markdown",
   "metadata": {},
   "source": [
    "# Workshop 9: ANNs\n",
    "---"
   ]
  },
  {
   "cell_type": "markdown",
   "metadata": {},
   "source": [
    "## 1) Neural Network Playground (Follow: Explore individually; Discuss as a Class)"
   ]
  },
  {
   "cell_type": "markdown",
   "metadata": {},
   "source": [
    "First, go to Tensorflow's [Neural Network Playground](https://playground.tensorflow.org/). This website is an interactive and exploratory visualization of how the features, number of layers, training time, etc, influence the classification boundries of an ANN. Right now, we'll only worry ourselves with *classification* problems.\n",
    "\n",
    "Play with the visualization, and then answer the following questions below.\n",
    "\n",
    "### Scenarios\n",
    "\n",
    "1. Using the default network topology, try training the network with the different activation functions (ReLU, Tanh, Sigmoid, Linear). What effect does the activation function have on the training time? What effect does the activation function have on the shape of the classification boundries?\n",
    "2. Take a look at [this setup](https://playground.tensorflow.org/#activation=tanh&batchSize=10&dataset=xor&regDataset=reg-plane&learningRate=0.03&regularizationRate=0&noise=0&networkShape=4,2&seed=0.21855&showTestData=false&discretize=false&percTrainData=50&x=true&y=true&xTimesY=false&xSquared=false&ySquared=false&cosX=false&sinX=false&cosY=false&sinY=false&collectStats=false&problem=classification&initZero=false&hideText=false). Train until the classification boundry converges. This is one of the rare cases where the nodes in an ANN can be (semi) interpreted. What do the nodes in the first hidden layer represent? What about the second hidden layer? How do you think the ANN uses these learned \"features\" to make a decision?\n",
    "\n",
    "### Exploration\n",
    "For each of the following questions:\n",
    "* Make a prediction before you begin exploring and testing.\n",
    "* Explain why you think this scenario has this property.\n",
    "\n",
    "**Questions**\n",
    "\n",
    "3. Find a scenario where a simple model (fewer neurons) outperforms a complex model. (In regards to overfitting)\n",
    "4. Find a scenario where no hidden layers perform well.\n",
    "5. Find a scenario where a model with no hidden layers performs poorly no matter the features.\n",
    "6. Find a scenario where it takes a lot of training time to get a correct solution."
   ]
  },
  {
   "cell_type": "markdown",
   "metadata": {},
   "source": [
    "1. Where the data is allocated in diffrent group\n",
    "2. [Answer]\n",
    "3. [Answer]\n",
    "4. [Answer]\n",
    "5. [Answer]\n",
    "6. [Answer]"
   ]
  },
  {
   "cell_type": "markdown",
   "metadata": {},
   "source": [
    "## 2) Training and Testing a Neural Network (Group)\n",
    "\n",
    "For this problem, you'll be looking at a reduced subset of the [Credit Card Fraud Data](https://www.kaggle.com/mlg-ulb/creditcardfraud), which contains transactions made by credit cards in September 2013 by European cardholders, including some fradulent transactions.\n",
    " \n",
    "There are two interesting properties about this dataset:\n",
    "\n",
    "1) **The data only contains dimensionality reduced data from a PCA transformation.** Sometimes, due to privacy concerns, all of the features (and even the names of the features used) cannot be known. Therefore, you'll be trying to train a model of data that has been reduced in dimensions with uninterpretable features.\n",
    "\n",
    "2) **The dataset is highly unbalanced.** The positive class (frauds) account for 0.172% of all transactions.\n",
    "\n",
    "Knowing the data, what classification metrics (Precision, Recall, F1-Score) are most appropriate and why?"
   ]
  },
  {
   "cell_type": "markdown",
   "metadata": {},
   "source": [
    "**Write your answer here.**"
   ]
  },
  {
   "cell_type": "markdown",
   "metadata": {},
   "source": [
    "For this question, **you have enough experience to do the entire model pipeline yourself**. That means *loading the data, creating splits, scaling the data, training and tuning the model, and evaluating the model.*"
   ]
  },
  {
   "cell_type": "code",
   "execution_count": 1,
   "metadata": {
    "collapsed": true
   },
   "outputs": [],
   "source": [
    "#Import necessary libraries\n",
    "import pandas as pd\n",
    "import numpy as np\n",
    "import warnings\n",
    "warnings.filterwarnings('ignore')\n",
    "\n",
    "random_state = 42"
   ]
  },
  {
   "cell_type": "markdown",
   "metadata": {},
   "source": [
    "### Step 1: Load the data into a dataframe. Use `value_counts` to check the class balance."
   ]
  },
  {
   "cell_type": "code",
   "execution_count": 2,
   "metadata": {
    "collapsed": true
   },
   "outputs": [],
   "source": [
    "df = pd.read_csv(\"./creditcard.csv\")"
   ]
  },
  {
   "cell_type": "code",
   "execution_count": 4,
   "metadata": {},
   "outputs": [
    {
     "data": {
      "text/html": [
       "<div>\n",
       "<style>\n",
       "    .dataframe thead tr:only-child th {\n",
       "        text-align: right;\n",
       "    }\n",
       "\n",
       "    .dataframe thead th {\n",
       "        text-align: left;\n",
       "    }\n",
       "\n",
       "    .dataframe tbody tr th {\n",
       "        vertical-align: top;\n",
       "    }\n",
       "</style>\n",
       "<table border=\"1\" class=\"dataframe\">\n",
       "  <thead>\n",
       "    <tr style=\"text-align: right;\">\n",
       "      <th></th>\n",
       "      <th>Time</th>\n",
       "      <th>V1</th>\n",
       "      <th>V2</th>\n",
       "      <th>V3</th>\n",
       "      <th>V4</th>\n",
       "      <th>V5</th>\n",
       "      <th>V6</th>\n",
       "      <th>V7</th>\n",
       "      <th>V8</th>\n",
       "      <th>V9</th>\n",
       "      <th>...</th>\n",
       "      <th>V21</th>\n",
       "      <th>V22</th>\n",
       "      <th>V23</th>\n",
       "      <th>V24</th>\n",
       "      <th>V25</th>\n",
       "      <th>V26</th>\n",
       "      <th>V27</th>\n",
       "      <th>V28</th>\n",
       "      <th>Amount</th>\n",
       "      <th>Class</th>\n",
       "    </tr>\n",
       "  </thead>\n",
       "  <tbody>\n",
       "    <tr>\n",
       "      <th>0</th>\n",
       "      <td>164032.0</td>\n",
       "      <td>0.013026</td>\n",
       "      <td>0.777210</td>\n",
       "      <td>0.168464</td>\n",
       "      <td>-0.782449</td>\n",
       "      <td>0.631586</td>\n",
       "      <td>-0.531628</td>\n",
       "      <td>0.876275</td>\n",
       "      <td>-0.000646</td>\n",
       "      <td>-0.248065</td>\n",
       "      <td>...</td>\n",
       "      <td>-0.226443</td>\n",
       "      <td>-0.515073</td>\n",
       "      <td>0.029329</td>\n",
       "      <td>-0.409008</td>\n",
       "      <td>-0.497966</td>\n",
       "      <td>0.147070</td>\n",
       "      <td>0.244097</td>\n",
       "      <td>0.082947</td>\n",
       "      <td>4.49</td>\n",
       "      <td>0</td>\n",
       "    </tr>\n",
       "    <tr>\n",
       "      <th>1</th>\n",
       "      <td>63407.0</td>\n",
       "      <td>-0.227828</td>\n",
       "      <td>0.503434</td>\n",
       "      <td>0.960992</td>\n",
       "      <td>0.979314</td>\n",
       "      <td>0.074042</td>\n",
       "      <td>0.640817</td>\n",
       "      <td>0.374438</td>\n",
       "      <td>0.014293</td>\n",
       "      <td>0.091550</td>\n",
       "      <td>...</td>\n",
       "      <td>-0.102313</td>\n",
       "      <td>-0.032916</td>\n",
       "      <td>-0.353239</td>\n",
       "      <td>-0.947066</td>\n",
       "      <td>0.137538</td>\n",
       "      <td>0.735928</td>\n",
       "      <td>-0.026360</td>\n",
       "      <td>-0.006919</td>\n",
       "      <td>74.50</td>\n",
       "      <td>0</td>\n",
       "    </tr>\n",
       "    <tr>\n",
       "      <th>2</th>\n",
       "      <td>75822.0</td>\n",
       "      <td>1.458861</td>\n",
       "      <td>-0.942226</td>\n",
       "      <td>-0.302423</td>\n",
       "      <td>-1.401064</td>\n",
       "      <td>-1.020394</td>\n",
       "      <td>-0.308819</td>\n",
       "      <td>-1.165356</td>\n",
       "      <td>0.024556</td>\n",
       "      <td>-1.870639</td>\n",
       "      <td>...</td>\n",
       "      <td>-0.081561</td>\n",
       "      <td>0.082309</td>\n",
       "      <td>-0.223705</td>\n",
       "      <td>-0.656232</td>\n",
       "      <td>0.518888</td>\n",
       "      <td>0.010662</td>\n",
       "      <td>0.046806</td>\n",
       "      <td>0.040290</td>\n",
       "      <td>42.20</td>\n",
       "      <td>0</td>\n",
       "    </tr>\n",
       "    <tr>\n",
       "      <th>3</th>\n",
       "      <td>168855.0</td>\n",
       "      <td>2.141957</td>\n",
       "      <td>-0.997336</td>\n",
       "      <td>-0.738212</td>\n",
       "      <td>-0.929019</td>\n",
       "      <td>-0.772330</td>\n",
       "      <td>-0.241391</td>\n",
       "      <td>-0.942758</td>\n",
       "      <td>-0.106791</td>\n",
       "      <td>-0.001484</td>\n",
       "      <td>...</td>\n",
       "      <td>0.324429</td>\n",
       "      <td>0.973512</td>\n",
       "      <td>0.097843</td>\n",
       "      <td>0.537377</td>\n",
       "      <td>-0.068501</td>\n",
       "      <td>-0.111042</td>\n",
       "      <td>0.006144</td>\n",
       "      <td>-0.037058</td>\n",
       "      <td>39.99</td>\n",
       "      <td>0</td>\n",
       "    </tr>\n",
       "    <tr>\n",
       "      <th>4</th>\n",
       "      <td>67996.0</td>\n",
       "      <td>0.965124</td>\n",
       "      <td>-0.961507</td>\n",
       "      <td>-0.119976</td>\n",
       "      <td>-0.421448</td>\n",
       "      <td>-0.975116</td>\n",
       "      <td>-1.164778</td>\n",
       "      <td>0.272813</td>\n",
       "      <td>-0.443593</td>\n",
       "      <td>-1.284454</td>\n",
       "      <td>...</td>\n",
       "      <td>-0.655408</td>\n",
       "      <td>-1.954242</td>\n",
       "      <td>0.076510</td>\n",
       "      <td>0.399212</td>\n",
       "      <td>-0.064425</td>\n",
       "      <td>0.595953</td>\n",
       "      <td>-0.112873</td>\n",
       "      <td>0.050798</td>\n",
       "      <td>239.00</td>\n",
       "      <td>0</td>\n",
       "    </tr>\n",
       "  </tbody>\n",
       "</table>\n",
       "<p>5 rows × 31 columns</p>\n",
       "</div>"
      ],
      "text/plain": [
       "       Time        V1        V2        V3        V4        V5        V6  \\\n",
       "0  164032.0  0.013026  0.777210  0.168464 -0.782449  0.631586 -0.531628   \n",
       "1   63407.0 -0.227828  0.503434  0.960992  0.979314  0.074042  0.640817   \n",
       "2   75822.0  1.458861 -0.942226 -0.302423 -1.401064 -1.020394 -0.308819   \n",
       "3  168855.0  2.141957 -0.997336 -0.738212 -0.929019 -0.772330 -0.241391   \n",
       "4   67996.0  0.965124 -0.961507 -0.119976 -0.421448 -0.975116 -1.164778   \n",
       "\n",
       "         V7        V8        V9  ...         V21       V22       V23  \\\n",
       "0  0.876275 -0.000646 -0.248065  ...   -0.226443 -0.515073  0.029329   \n",
       "1  0.374438  0.014293  0.091550  ...   -0.102313 -0.032916 -0.353239   \n",
       "2 -1.165356  0.024556 -1.870639  ...   -0.081561  0.082309 -0.223705   \n",
       "3 -0.942758 -0.106791 -0.001484  ...    0.324429  0.973512  0.097843   \n",
       "4  0.272813 -0.443593 -1.284454  ...   -0.655408 -1.954242  0.076510   \n",
       "\n",
       "        V24       V25       V26       V27       V28  Amount  Class  \n",
       "0 -0.409008 -0.497966  0.147070  0.244097  0.082947    4.49      0  \n",
       "1 -0.947066  0.137538  0.735928 -0.026360 -0.006919   74.50      0  \n",
       "2 -0.656232  0.518888  0.010662  0.046806  0.040290   42.20      0  \n",
       "3  0.537377 -0.068501 -0.111042  0.006144 -0.037058   39.99      0  \n",
       "4  0.399212 -0.064425  0.595953 -0.112873  0.050798  239.00      0  \n",
       "\n",
       "[5 rows x 31 columns]"
      ]
     },
     "execution_count": 4,
     "metadata": {},
     "output_type": "execute_result"
    }
   ],
   "source": [
    "df.head()"
   ]
  },
  {
   "cell_type": "code",
   "execution_count": 5,
   "metadata": {},
   "outputs": [
    {
     "data": {
      "text/plain": [
       "0    85284\n",
       "1      158\n",
       "Name: Class, dtype: int64"
      ]
     },
     "execution_count": 5,
     "metadata": {},
     "output_type": "execute_result"
    }
   ],
   "source": [
    "df['Class'].value_counts()"
   ]
  },
  {
   "cell_type": "markdown",
   "metadata": {},
   "source": [
    "### Step 2: Partition the data into an X dataframe (features) and Y single-column dataframe (class)"
   ]
  },
  {
   "cell_type": "code",
   "execution_count": 6,
   "metadata": {
    "collapsed": true
   },
   "outputs": [],
   "source": [
    "df_features = df.iloc[:,0:-1]\n",
    "df_labels =df[\"Class\"]"
   ]
  },
  {
   "cell_type": "code",
   "execution_count": 7,
   "metadata": {},
   "outputs": [
    {
     "data": {
      "text/html": [
       "<div>\n",
       "<style>\n",
       "    .dataframe thead tr:only-child th {\n",
       "        text-align: right;\n",
       "    }\n",
       "\n",
       "    .dataframe thead th {\n",
       "        text-align: left;\n",
       "    }\n",
       "\n",
       "    .dataframe tbody tr th {\n",
       "        vertical-align: top;\n",
       "    }\n",
       "</style>\n",
       "<table border=\"1\" class=\"dataframe\">\n",
       "  <thead>\n",
       "    <tr style=\"text-align: right;\">\n",
       "      <th></th>\n",
       "      <th>Time</th>\n",
       "      <th>V1</th>\n",
       "      <th>V2</th>\n",
       "      <th>V3</th>\n",
       "      <th>V4</th>\n",
       "      <th>V5</th>\n",
       "      <th>V6</th>\n",
       "      <th>V7</th>\n",
       "      <th>V8</th>\n",
       "      <th>V9</th>\n",
       "      <th>...</th>\n",
       "      <th>V20</th>\n",
       "      <th>V21</th>\n",
       "      <th>V22</th>\n",
       "      <th>V23</th>\n",
       "      <th>V24</th>\n",
       "      <th>V25</th>\n",
       "      <th>V26</th>\n",
       "      <th>V27</th>\n",
       "      <th>V28</th>\n",
       "      <th>Amount</th>\n",
       "    </tr>\n",
       "  </thead>\n",
       "  <tbody>\n",
       "    <tr>\n",
       "      <th>0</th>\n",
       "      <td>164032.0</td>\n",
       "      <td>0.013026</td>\n",
       "      <td>0.777210</td>\n",
       "      <td>0.168464</td>\n",
       "      <td>-0.782449</td>\n",
       "      <td>0.631586</td>\n",
       "      <td>-0.531628</td>\n",
       "      <td>0.876275</td>\n",
       "      <td>-0.000646</td>\n",
       "      <td>-0.248065</td>\n",
       "      <td>...</td>\n",
       "      <td>-0.035318</td>\n",
       "      <td>-0.226443</td>\n",
       "      <td>-0.515073</td>\n",
       "      <td>0.029329</td>\n",
       "      <td>-0.409008</td>\n",
       "      <td>-0.497966</td>\n",
       "      <td>0.147070</td>\n",
       "      <td>0.244097</td>\n",
       "      <td>0.082947</td>\n",
       "      <td>4.49</td>\n",
       "    </tr>\n",
       "    <tr>\n",
       "      <th>1</th>\n",
       "      <td>63407.0</td>\n",
       "      <td>-0.227828</td>\n",
       "      <td>0.503434</td>\n",
       "      <td>0.960992</td>\n",
       "      <td>0.979314</td>\n",
       "      <td>0.074042</td>\n",
       "      <td>0.640817</td>\n",
       "      <td>0.374438</td>\n",
       "      <td>0.014293</td>\n",
       "      <td>0.091550</td>\n",
       "      <td>...</td>\n",
       "      <td>0.124125</td>\n",
       "      <td>-0.102313</td>\n",
       "      <td>-0.032916</td>\n",
       "      <td>-0.353239</td>\n",
       "      <td>-0.947066</td>\n",
       "      <td>0.137538</td>\n",
       "      <td>0.735928</td>\n",
       "      <td>-0.026360</td>\n",
       "      <td>-0.006919</td>\n",
       "      <td>74.50</td>\n",
       "    </tr>\n",
       "    <tr>\n",
       "      <th>2</th>\n",
       "      <td>75822.0</td>\n",
       "      <td>1.458861</td>\n",
       "      <td>-0.942226</td>\n",
       "      <td>-0.302423</td>\n",
       "      <td>-1.401064</td>\n",
       "      <td>-1.020394</td>\n",
       "      <td>-0.308819</td>\n",
       "      <td>-1.165356</td>\n",
       "      <td>0.024556</td>\n",
       "      <td>-1.870639</td>\n",
       "      <td>...</td>\n",
       "      <td>-0.211826</td>\n",
       "      <td>-0.081561</td>\n",
       "      <td>0.082309</td>\n",
       "      <td>-0.223705</td>\n",
       "      <td>-0.656232</td>\n",
       "      <td>0.518888</td>\n",
       "      <td>0.010662</td>\n",
       "      <td>0.046806</td>\n",
       "      <td>0.040290</td>\n",
       "      <td>42.20</td>\n",
       "    </tr>\n",
       "    <tr>\n",
       "      <th>3</th>\n",
       "      <td>168855.0</td>\n",
       "      <td>2.141957</td>\n",
       "      <td>-0.997336</td>\n",
       "      <td>-0.738212</td>\n",
       "      <td>-0.929019</td>\n",
       "      <td>-0.772330</td>\n",
       "      <td>-0.241391</td>\n",
       "      <td>-0.942758</td>\n",
       "      <td>-0.106791</td>\n",
       "      <td>-0.001484</td>\n",
       "      <td>...</td>\n",
       "      <td>0.124308</td>\n",
       "      <td>0.324429</td>\n",
       "      <td>0.973512</td>\n",
       "      <td>0.097843</td>\n",
       "      <td>0.537377</td>\n",
       "      <td>-0.068501</td>\n",
       "      <td>-0.111042</td>\n",
       "      <td>0.006144</td>\n",
       "      <td>-0.037058</td>\n",
       "      <td>39.99</td>\n",
       "    </tr>\n",
       "    <tr>\n",
       "      <th>4</th>\n",
       "      <td>67996.0</td>\n",
       "      <td>0.965124</td>\n",
       "      <td>-0.961507</td>\n",
       "      <td>-0.119976</td>\n",
       "      <td>-0.421448</td>\n",
       "      <td>-0.975116</td>\n",
       "      <td>-1.164778</td>\n",
       "      <td>0.272813</td>\n",
       "      <td>-0.443593</td>\n",
       "      <td>-1.284454</td>\n",
       "      <td>...</td>\n",
       "      <td>0.049000</td>\n",
       "      <td>-0.655408</td>\n",
       "      <td>-1.954242</td>\n",
       "      <td>0.076510</td>\n",
       "      <td>0.399212</td>\n",
       "      <td>-0.064425</td>\n",
       "      <td>0.595953</td>\n",
       "      <td>-0.112873</td>\n",
       "      <td>0.050798</td>\n",
       "      <td>239.00</td>\n",
       "    </tr>\n",
       "  </tbody>\n",
       "</table>\n",
       "<p>5 rows × 30 columns</p>\n",
       "</div>"
      ],
      "text/plain": [
       "       Time        V1        V2        V3        V4        V5        V6  \\\n",
       "0  164032.0  0.013026  0.777210  0.168464 -0.782449  0.631586 -0.531628   \n",
       "1   63407.0 -0.227828  0.503434  0.960992  0.979314  0.074042  0.640817   \n",
       "2   75822.0  1.458861 -0.942226 -0.302423 -1.401064 -1.020394 -0.308819   \n",
       "3  168855.0  2.141957 -0.997336 -0.738212 -0.929019 -0.772330 -0.241391   \n",
       "4   67996.0  0.965124 -0.961507 -0.119976 -0.421448 -0.975116 -1.164778   \n",
       "\n",
       "         V7        V8        V9   ...         V20       V21       V22  \\\n",
       "0  0.876275 -0.000646 -0.248065   ...   -0.035318 -0.226443 -0.515073   \n",
       "1  0.374438  0.014293  0.091550   ...    0.124125 -0.102313 -0.032916   \n",
       "2 -1.165356  0.024556 -1.870639   ...   -0.211826 -0.081561  0.082309   \n",
       "3 -0.942758 -0.106791 -0.001484   ...    0.124308  0.324429  0.973512   \n",
       "4  0.272813 -0.443593 -1.284454   ...    0.049000 -0.655408 -1.954242   \n",
       "\n",
       "        V23       V24       V25       V26       V27       V28  Amount  \n",
       "0  0.029329 -0.409008 -0.497966  0.147070  0.244097  0.082947    4.49  \n",
       "1 -0.353239 -0.947066  0.137538  0.735928 -0.026360 -0.006919   74.50  \n",
       "2 -0.223705 -0.656232  0.518888  0.010662  0.046806  0.040290   42.20  \n",
       "3  0.097843  0.537377 -0.068501 -0.111042  0.006144 -0.037058   39.99  \n",
       "4  0.076510  0.399212 -0.064425  0.595953 -0.112873  0.050798  239.00  \n",
       "\n",
       "[5 rows x 30 columns]"
      ]
     },
     "execution_count": 7,
     "metadata": {},
     "output_type": "execute_result"
    }
   ],
   "source": [
    "df_features.head()"
   ]
  },
  {
   "cell_type": "code",
   "execution_count": 8,
   "metadata": {},
   "outputs": [
    {
     "data": {
      "text/plain": [
       "0    0\n",
       "1    0\n",
       "2    0\n",
       "3    0\n",
       "4    0\n",
       "Name: Class, dtype: int64"
      ]
     },
     "execution_count": 8,
     "metadata": {},
     "output_type": "execute_result"
    }
   ],
   "source": [
    "df_labels.head()"
   ]
  },
  {
   "cell_type": "markdown",
   "metadata": {},
   "source": [
    "### Step 3: Create your train/test split. Use the provided random_state.\n",
    "\n",
    "**Note**: You should use a `train_size` of 0.7, or 70%"
   ]
  },
  {
   "cell_type": "code",
   "execution_count": 10,
   "metadata": {},
   "outputs": [],
   "source": [
    "from sklearn.model_selection import train_test_split\n",
    "test_data_fraction = 0.3\n",
    "\n",
    "X_train, X_test, Y_train, Y_test = train_test_split(df_features, df_labels, test_size=test_data_fraction)"
   ]
  },
  {
   "cell_type": "code",
   "execution_count": 14,
   "metadata": {},
   "outputs": [
    {
     "data": {
      "text/plain": [
       "(59809, 30)"
      ]
     },
     "execution_count": 14,
     "metadata": {},
     "output_type": "execute_result"
    }
   ],
   "source": [
    "X_train.shape"
   ]
  },
  {
   "cell_type": "code",
   "execution_count": 15,
   "metadata": {},
   "outputs": [
    {
     "data": {
      "text/plain": [
       "(25633, 30)"
      ]
     },
     "execution_count": 15,
     "metadata": {},
     "output_type": "execute_result"
    }
   ],
   "source": [
    "X_test.shape"
   ]
  },
  {
   "cell_type": "code",
   "execution_count": 16,
   "metadata": {},
   "outputs": [
    {
     "data": {
      "text/plain": [
       "(59809,)"
      ]
     },
     "execution_count": 16,
     "metadata": {},
     "output_type": "execute_result"
    }
   ],
   "source": [
    "Y_train.shape"
   ]
  },
  {
   "cell_type": "code",
   "execution_count": 17,
   "metadata": {},
   "outputs": [
    {
     "data": {
      "text/plain": [
       "(25633,)"
      ]
     },
     "execution_count": 17,
     "metadata": {},
     "output_type": "execute_result"
    }
   ],
   "source": [
    "Y_test.shape"
   ]
  },
  {
   "cell_type": "markdown",
   "metadata": {},
   "source": [
    "### Step 4: Use a [MinMaxScaler](https://scikit-learn.org/stable/modules/generated/sklearn.preprocessing.MinMaxScaler.html) to standardize the data. \n",
    "\n",
    "Fit the scaler only the the training X features, and then apply it to both training and test X features. We do this because in practice, we wouldn't be able to see data in the test X, so it shouldn't affect feature transformation. We therefore only use X_train for feature transformation.\n",
    "\n",
    "**Note**: Even though most of the features are already transformed using PCA (which would not require additional standardize), there is one other feature (time) that is not, so we should scale as a best practice."
   ]
  },
  {
   "cell_type": "code",
   "execution_count": 18,
   "metadata": {
    "collapsed": true
   },
   "outputs": [],
   "source": [
    "from sklearn.preprocessing import MinMaxScaler"
   ]
  },
  {
   "cell_type": "code",
   "execution_count": 21,
   "metadata": {},
   "outputs": [],
   "source": [
    "scalar = MinMaxScaler()\n",
    "scalar.fit(X_train)\n",
    "\n",
    "X_train = scalar.transform(X_train)\n",
    "X_test =  scalar.transform(X_test)"
   ]
  },
  {
   "cell_type": "markdown",
   "metadata": {},
   "source": [
    "### Step 5:  Train an MLP with default hyperparameters.\n",
    "\n",
    "For the following, you'll be using sklearn's built in Multi-layer Perceptron classifier [MLPClassifier](https://scikit-learn.org/stable/modules/generated/sklearn.neural_network.MLPClassifier.html).\n",
    "\n",
    "Use the default hyperparams aside from `max_iter`. `max_iter` is how many iterations of training the ANN goes though until it manually stops. The default `max_iter=200` is too long for our data currently. \n",
    "\n",
    "**Use random_state as the random_states and max_iter=20**. The detault parameters will use a single hidden layer.\n",
    "\n"
   ]
  },
  {
   "cell_type": "code",
   "execution_count": 24,
   "metadata": {
    "collapsed": true
   },
   "outputs": [],
   "source": [
    "from sklearn.neural_network import MLPClassifier"
   ]
  },
  {
   "cell_type": "code",
   "execution_count": 25,
   "metadata": {},
   "outputs": [],
   "source": [
    "# create the machine learning model\n",
    "clf = MLPClassifier(random_state=1, max_iter=300).fit(X_train, Y_train)"
   ]
  },
  {
   "cell_type": "code",
   "execution_count": 31,
   "metadata": {},
   "outputs": [
    {
     "data": {
      "text/plain": [
       "array([[  9.99863070e-01,   1.36930351e-04],\n",
       "       [  9.99832765e-01,   1.67235180e-04],\n",
       "       [  9.99679433e-01,   3.20567267e-04],\n",
       "       ..., \n",
       "       [  9.99653258e-01,   3.46741521e-04],\n",
       "       [  9.99814883e-01,   1.85117054e-04],\n",
       "       [  9.99959859e-01,   4.01413249e-05]])"
      ]
     },
     "execution_count": 31,
     "metadata": {},
     "output_type": "execute_result"
    }
   ],
   "source": [
    "# predict the probability of model\n",
    "clf.predict_proba(X_test)"
   ]
  },
  {
   "cell_type": "code",
   "execution_count": 34,
   "metadata": {},
   "outputs": [],
   "source": [
    "# \n",
    "predict = clf.predict(X_test)"
   ]
  },
  {
   "cell_type": "code",
   "execution_count": 33,
   "metadata": {},
   "outputs": [
    {
     "data": {
      "text/plain": [
       "0.99906370694027236"
      ]
     },
     "execution_count": 33,
     "metadata": {},
     "output_type": "execute_result"
    }
   ],
   "source": [
    "clf.score(X_test, Y_test)"
   ]
  },
  {
   "cell_type": "code",
   "execution_count": 36,
   "metadata": {
    "collapsed": true
   },
   "outputs": [],
   "source": [
    "from sklearn.metrics import confusion_matrix\n",
    "from sklearn.metrics import classification_report"
   ]
  },
  {
   "cell_type": "code",
   "execution_count": 38,
   "metadata": {},
   "outputs": [
    {
     "data": {
      "text/plain": [
       "array([[25572,     8],\n",
       "       [   16,    37]])"
      ]
     },
     "execution_count": 38,
     "metadata": {},
     "output_type": "execute_result"
    }
   ],
   "source": [
    "confusion_matrix(Y_test, predict)"
   ]
  },
  {
   "cell_type": "code",
   "execution_count": 40,
   "metadata": {},
   "outputs": [
    {
     "name": "stdout",
     "output_type": "stream",
     "text": [
      "             precision    recall  f1-score   support\n",
      "\n",
      "          0       1.00      1.00      1.00     25580\n",
      "          1       0.82      0.70      0.76        53\n",
      "\n",
      "avg / total       1.00      1.00      1.00     25633\n",
      "\n"
     ]
    }
   ],
   "source": [
    "print(classification_report(Y_test, predict))"
   ]
  },
  {
   "cell_type": "markdown",
   "metadata": {},
   "source": [
    "If all went well, your model should have an accuracy of almost 100%. Use `classification_report` to explain what you think happened. Is the model performing well? If not, is it overfitting or underfitting? Remember that the classes in the problem are very imbalanced, but out main goal is to detect fraud (class 1)."
   ]
  },
  {
   "cell_type": "markdown",
   "metadata": {},
   "source": [
    "**Note**: `classification_report` outputs Precision, Recall and F1 for both classes. Remember that how we calculate these metrics depends on which class we treat as the positive class. If we say Class 0 is the positive class, a FP means incorrectly predicting Class 0, but for Class 1 a FP is incorrectly predicting Class 1."
   ]
  },
  {
   "cell_type": "markdown",
   "metadata": {},
   "source": [
    "**Answer here**."
   ]
  },
  {
   "cell_type": "markdown",
   "metadata": {},
   "source": [
    "## 3) Hyperparameters (Group)"
   ]
  },
  {
   "cell_type": "markdown",
   "metadata": {},
   "source": [
    "**Hyperparams**:\n",
    "\n",
    "ANNs have *a lot* of hyperparams. This can include simple things such as the number of layers and nodes, up to tuning the learning rate and the gradient descent algorithm used. \n",
    "\n",
    "Unfortunately, there is no tried an true method for selecting hyperparams for a neural network. It requires a lot of experimentation and intution through experience. (In fact, one of the most successful methods in training neural networks is *Graduate Student Descent*, where you simply give the laborious process of tuning to a graduate student while you go and do more research!)\n",
    "\n",
    "For now, the paramaters that you should explore are:\n",
    "\n",
    "* `activation`: The activation function of the the ANN. Defaults to ReLU.\n",
    "* `max_iter`: The ANN will train iterations until either the loss stops improving by a specified threshold, or `max_iters` is reached. Warning: the more you increase this, the more the training time will take! Patience is a virtue.\n",
    "* `hidden_layer_sizes`: A tuple representing the structure of the hidden layers. For example, giving the tuple `(100,50)` means that there's two hidden layers: the first being of size 100, and the second being of size 50. The tuple (100,) would mean a single hidden layer of size 100.\n",
    "\n",
    "**Try different permutations of these hyperprams and see how it affects the classification scores of your model.**"
   ]
  },
  {
   "cell_type": "code",
   "execution_count": null,
   "metadata": {
    "collapsed": true
   },
   "outputs": [],
   "source": []
  },
  {
   "cell_type": "markdown",
   "metadata": {},
   "source": [
    "Answer the following questions:\n",
    "1. What criteria did you use to determine which model hyperparameters performed \"best\"? Why? Justify your answer with respect to the problem: fraud detection.\n",
    "2. What hyperparameters performed best. Why do you think they performed best?"
   ]
  }
 ],
 "metadata": {
  "kernelspec": {
   "display_name": "Python 3",
   "language": "python",
   "name": "python3"
  },
  "language_info": {
   "codemirror_mode": {
    "name": "ipython",
    "version": 3
   },
   "file_extension": ".py",
   "mimetype": "text/x-python",
   "name": "python",
   "nbconvert_exporter": "python",
   "pygments_lexer": "ipython3",
   "version": "3.6.1"
  }
 },
 "nbformat": 4,
 "nbformat_minor": 4
}
